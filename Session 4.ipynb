{
 "cells": [
  {
   "cell_type": "markdown",
   "id": "24726f8f",
   "metadata": {},
   "source": [
    "# ***Session 4 -- h1***\n",
    "## Session 4 -- h2\n",
    "### *Session 4 -- h3*"
   ]
  },
  {
   "cell_type": "markdown",
   "id": "68224ebf",
   "metadata": {},
   "source": [
    "# ***Session 4 -- h1***\n",
    "## Session 4 -- h2\n",
    "### *Session 4 -- h3*"
   ]
  },
  {
   "cell_type": "code",
   "execution_count": null,
   "id": "771fc369",
   "metadata": {},
   "outputs": [],
   "source": []
  },
  {
   "cell_type": "markdown",
   "id": "ae55dfec",
   "metadata": {},
   "source": [
    "# ***Session 4 -- h1***\n",
    "## Session 4 -- h2\n",
    "### *Session 4 -- h3*"
   ]
  },
  {
   "cell_type": "markdown",
   "id": "14d20206",
   "metadata": {},
   "source": [
    "# ***Session 4 -- h1***\n",
    "## Session 4 -- h2\n",
    "### *Session 4 -- h3*"
   ]
  },
  {
   "cell_type": "markdown",
   "id": "094e3f04",
   "metadata": {},
   "source": [
    "### **Session 4 -- h3**"
   ]
  },
  {
   "cell_type": "code",
   "execution_count": 1,
   "id": "d5c26ba3",
   "metadata": {},
   "outputs": [
    {
     "name": "stdout",
     "output_type": "stream",
     "text": [
      "Hello world\n"
     ]
    }
   ],
   "source": [
    "print(\"Hello world\")"
   ]
  },
  {
   "cell_type": "code",
   "execution_count": 2,
   "id": "386092f2",
   "metadata": {},
   "outputs": [
    {
     "name": "stdout",
     "output_type": "stream",
     "text": [
      "Hello world\n"
     ]
    }
   ],
   "source": [
    "print(\"Hello world\")"
   ]
  },
  {
   "cell_type": "code",
   "execution_count": null,
   "id": "c5b37300",
   "metadata": {},
   "outputs": [],
   "source": []
  }
 ],
 "metadata": {
  "kernelspec": {
   "display_name": "Python 3 (ipykernel)",
   "language": "python",
   "name": "python3"
  },
  "language_info": {
   "codemirror_mode": {
    "name": "ipython",
    "version": 3
   },
   "file_extension": ".py",
   "mimetype": "text/x-python",
   "name": "python",
   "nbconvert_exporter": "python",
   "pygments_lexer": "ipython3",
   "version": "3.9.12"
  }
 },
 "nbformat": 4,
 "nbformat_minor": 5
}
